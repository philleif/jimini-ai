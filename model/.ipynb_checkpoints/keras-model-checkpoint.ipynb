{
 "cells": [
  {
   "cell_type": "code",
   "execution_count": 1,
   "metadata": {},
   "outputs": [
    {
     "name": "stderr",
     "output_type": "stream",
     "text": [
      "/Users/philleif/anaconda3/lib/python3.6/site-packages/h5py/__init__.py:36: FutureWarning: Conversion of the second argument of issubdtype from `float` to `np.floating` is deprecated. In future, it will be treated as `np.float64 == np.dtype(float).type`.\n",
      "  from ._conv import register_converters as _register_converters\n",
      "Using TensorFlow backend.\n"
     ]
    },
    {
     "name": "stdout",
     "output_type": "stream",
     "text": [
      "WARNING:tensorflow:From /Users/philleif/anaconda3/lib/python3.6/site-packages/tensorflow/contrib/learn/python/learn/datasets/base.py:198: retry (from tensorflow.contrib.learn.python.learn.datasets.base) is deprecated and will be removed in a future version.\n",
      "Instructions for updating:\n",
      "Use the retry module or similar alternatives.\n"
     ]
    }
   ],
   "source": [
    "import pandas as pd\n",
    "import tensorflowjs as tfjs\n",
    "from keras.layers import Dense, Dropout, Flatten\n",
    "from keras.models import Sequential\n",
    "from sklearn.model_selection import train_test_split"
   ]
  },
  {
   "cell_type": "code",
   "execution_count": 4,
   "metadata": {},
   "outputs": [],
   "source": [
    "df = pd.read_csv(\"../data/candles.csv\")"
   ]
  },
  {
   "cell_type": "code",
   "execution_count": 5,
   "metadata": {},
   "outputs": [
    {
     "data": {
      "text/html": [
       "<div>\n",
       "<style>\n",
       "    .dataframe thead tr:only-child th {\n",
       "        text-align: right;\n",
       "    }\n",
       "\n",
       "    .dataframe thead th {\n",
       "        text-align: left;\n",
       "    }\n",
       "\n",
       "    .dataframe tbody tr th {\n",
       "        vertical-align: top;\n",
       "    }\n",
       "</style>\n",
       "<table border=\"1\" class=\"dataframe\">\n",
       "  <thead>\n",
       "    <tr style=\"text-align: right;\">\n",
       "      <th></th>\n",
       "      <th>mts</th>\n",
       "      <th>open</th>\n",
       "      <th>close</th>\n",
       "      <th>high</th>\n",
       "      <th>low</th>\n",
       "      <th>volume</th>\n",
       "      <th>pair</th>\n",
       "      <th>timeframe</th>\n",
       "      <th>percentChange</th>\n",
       "      <th>strategy</th>\n",
       "      <th>strategyCode</th>\n",
       "    </tr>\n",
       "  </thead>\n",
       "  <tbody>\n",
       "    <tr>\n",
       "      <th>0</th>\n",
       "      <td>1525891500000</td>\n",
       "      <td>0.79862</td>\n",
       "      <td>0.79880</td>\n",
       "      <td>0.80027</td>\n",
       "      <td>0.79712</td>\n",
       "      <td>286999.876946</td>\n",
       "      <td>tXRPUSD</td>\n",
       "      <td>15m</td>\n",
       "      <td>0.021282</td>\n",
       "      <td>LONG</td>\n",
       "      <td>1</td>\n",
       "    </tr>\n",
       "    <tr>\n",
       "      <th>1</th>\n",
       "      <td>1525892400000</td>\n",
       "      <td>0.79881</td>\n",
       "      <td>0.79788</td>\n",
       "      <td>0.80148</td>\n",
       "      <td>0.79738</td>\n",
       "      <td>332623.888663</td>\n",
       "      <td>tXRPUSD</td>\n",
       "      <td>15m</td>\n",
       "      <td>-0.115306</td>\n",
       "      <td>SHORT</td>\n",
       "      <td>0</td>\n",
       "    </tr>\n",
       "    <tr>\n",
       "      <th>2</th>\n",
       "      <td>1525893300000</td>\n",
       "      <td>0.79787</td>\n",
       "      <td>0.79646</td>\n",
       "      <td>0.79787</td>\n",
       "      <td>0.79581</td>\n",
       "      <td>132389.112383</td>\n",
       "      <td>tXRPUSD</td>\n",
       "      <td>15m</td>\n",
       "      <td>-0.178289</td>\n",
       "      <td>SHORT</td>\n",
       "      <td>0</td>\n",
       "    </tr>\n",
       "    <tr>\n",
       "      <th>3</th>\n",
       "      <td>1525894200000</td>\n",
       "      <td>0.79690</td>\n",
       "      <td>0.80269</td>\n",
       "      <td>0.80280</td>\n",
       "      <td>0.79650</td>\n",
       "      <td>295307.365543</td>\n",
       "      <td>tXRPUSD</td>\n",
       "      <td>15m</td>\n",
       "      <td>0.776140</td>\n",
       "      <td>LONG</td>\n",
       "      <td>1</td>\n",
       "    </tr>\n",
       "    <tr>\n",
       "      <th>4</th>\n",
       "      <td>1525895100000</td>\n",
       "      <td>0.80243</td>\n",
       "      <td>0.80081</td>\n",
       "      <td>0.80349</td>\n",
       "      <td>0.80015</td>\n",
       "      <td>46555.234530</td>\n",
       "      <td>tXRPUSD</td>\n",
       "      <td>15m</td>\n",
       "      <td>-0.234762</td>\n",
       "      <td>SHORT</td>\n",
       "      <td>0</td>\n",
       "    </tr>\n",
       "  </tbody>\n",
       "</table>\n",
       "</div>"
      ],
      "text/plain": [
       "             mts     open    close     high      low         volume     pair  \\\n",
       "0  1525891500000  0.79862  0.79880  0.80027  0.79712  286999.876946  tXRPUSD   \n",
       "1  1525892400000  0.79881  0.79788  0.80148  0.79738  332623.888663  tXRPUSD   \n",
       "2  1525893300000  0.79787  0.79646  0.79787  0.79581  132389.112383  tXRPUSD   \n",
       "3  1525894200000  0.79690  0.80269  0.80280  0.79650  295307.365543  tXRPUSD   \n",
       "4  1525895100000  0.80243  0.80081  0.80349  0.80015   46555.234530  tXRPUSD   \n",
       "\n",
       "  timeframe  percentChange strategy  strategyCode  \n",
       "0       15m       0.021282     LONG             1  \n",
       "1       15m      -0.115306    SHORT             0  \n",
       "2       15m      -0.178289    SHORT             0  \n",
       "3       15m       0.776140     LONG             1  \n",
       "4       15m      -0.234762    SHORT             0  "
      ]
     },
     "execution_count": 5,
     "metadata": {},
     "output_type": "execute_result"
    }
   ],
   "source": [
    "df.head()"
   ]
  },
  {
   "cell_type": "code",
   "execution_count": 13,
   "metadata": {},
   "outputs": [],
   "source": [
    "model = Sequential()\n",
    "\n",
    "model.add(Dense(64, input_shape=(1,), activation=\"relu\"))\n",
    "model.add(Dropout(0.5))\n",
    "model.add(Dense(64, activation=\"relu\"))\n",
    "model.add(Dropout(0.5))\n",
    "model.add(Dense(64, activation=\"relu\"))\n",
    "model.add(Dropout(0.5))\n",
    "model.add(Dense(1, activation=\"sigmoid\"))"
   ]
  },
  {
   "cell_type": "code",
   "execution_count": 16,
   "metadata": {},
   "outputs": [],
   "source": [
    "model.compile(loss=\"binary_crossentropy\",\n",
    "              optimizer=\"Adam\",\n",
    "              metrics=[\"accuracy\"])"
   ]
  },
  {
   "cell_type": "code",
   "execution_count": 17,
   "metadata": {},
   "outputs": [],
   "source": [
    "X = df[[\"volume\"]].values\n",
    "y = df[\"strategyCode\"].values\n",
    "\n",
    "X_train, X_test, y_train, y_test = train_test_split(X, y, test_size=0.33)"
   ]
  },
  {
   "cell_type": "code",
   "execution_count": 18,
   "metadata": {},
   "outputs": [
    {
     "name": "stdout",
     "output_type": "stream",
     "text": [
      "Epoch 1/50\n",
      "2009/2009 [==============================] - 0s 212us/step - loss: 7.5208 - acc: 0.5017\n",
      "Epoch 2/50\n",
      "2009/2009 [==============================] - 0s 71us/step - loss: 7.4020 - acc: 0.5112\n",
      "Epoch 3/50\n",
      "2009/2009 [==============================] - 0s 72us/step - loss: 7.4796 - acc: 0.5087\n",
      "Epoch 4/50\n",
      "2009/2009 [==============================] - 0s 71us/step - loss: 7.6922 - acc: 0.4948\n",
      "Epoch 5/50\n",
      "2009/2009 [==============================] - 0s 72us/step - loss: 7.7186 - acc: 0.4883\n",
      "Epoch 6/50\n",
      "2009/2009 [==============================] - 0s 74us/step - loss: 7.3613 - acc: 0.5142\n",
      "Epoch 7/50\n",
      "2009/2009 [==============================] - 0s 72us/step - loss: 7.4449 - acc: 0.5137\n",
      "Epoch 8/50\n",
      "2009/2009 [==============================] - 0s 71us/step - loss: 7.5073 - acc: 0.5027\n",
      "Epoch 9/50\n",
      "2009/2009 [==============================] - 0s 71us/step - loss: 7.4970 - acc: 0.5077\n",
      "Epoch 10/50\n",
      "2009/2009 [==============================] - 0s 71us/step - loss: 7.5397 - acc: 0.5037\n",
      "Epoch 11/50\n",
      "2009/2009 [==============================] - 0s 72us/step - loss: 7.2425 - acc: 0.5217\n",
      "Epoch 12/50\n",
      "2009/2009 [==============================] - 0s 73us/step - loss: 7.3856 - acc: 0.5117\n",
      "Epoch 13/50\n",
      "2009/2009 [==============================] - 0s 72us/step - loss: 7.4240 - acc: 0.5062\n",
      "Epoch 14/50\n",
      "2009/2009 [==============================] - 0s 72us/step - loss: 7.6935 - acc: 0.4873\n",
      "Epoch 15/50\n",
      "2009/2009 [==============================] - 0s 72us/step - loss: 7.4813 - acc: 0.5072\n",
      "Epoch 16/50\n",
      "2009/2009 [==============================] - 0s 71us/step - loss: 7.3626 - acc: 0.5147\n",
      "Epoch 17/50\n",
      "2009/2009 [==============================] - 0s 72us/step - loss: 7.5258 - acc: 0.5037\n",
      "Epoch 18/50\n",
      "2009/2009 [==============================] - 0s 73us/step - loss: 7.5734 - acc: 0.4963\n",
      "Epoch 19/50\n",
      "2009/2009 [==============================] - 0s 73us/step - loss: 7.3946 - acc: 0.5097\n",
      "Epoch 20/50\n",
      "2009/2009 [==============================] - 0s 72us/step - loss: 7.2457 - acc: 0.5192\n",
      "Epoch 21/50\n",
      "2009/2009 [==============================] - 0s 73us/step - loss: 7.4719 - acc: 0.5012\n",
      "Epoch 22/50\n",
      "2009/2009 [==============================] - 0s 74us/step - loss: 7.4084 - acc: 0.5137\n",
      "Epoch 23/50\n",
      "2009/2009 [==============================] - 0s 74us/step - loss: 7.5455 - acc: 0.5102\n",
      "Epoch 24/50\n",
      "2009/2009 [==============================] - 0s 73us/step - loss: 7.4953 - acc: 0.5072\n",
      "Epoch 25/50\n",
      "2009/2009 [==============================] - 0s 72us/step - loss: 7.3624 - acc: 0.5077\n",
      "Epoch 26/50\n",
      "2009/2009 [==============================] - 0s 72us/step - loss: 7.6367 - acc: 0.4988\n",
      "Epoch 27/50\n",
      "2009/2009 [==============================] - 0s 74us/step - loss: 7.6261 - acc: 0.4993\n",
      "Epoch 28/50\n",
      "2009/2009 [==============================] - 0s 74us/step - loss: 7.3724 - acc: 0.5162\n",
      "Epoch 29/50\n",
      "2009/2009 [==============================] - 0s 73us/step - loss: 7.4032 - acc: 0.5092\n",
      "Epoch 30/50\n",
      "2009/2009 [==============================] - 0s 72us/step - loss: 7.5240 - acc: 0.4973\n",
      "Epoch 31/50\n",
      "2009/2009 [==============================] - 0s 73us/step - loss: 7.7777 - acc: 0.4843\n",
      "Epoch 32/50\n",
      "2009/2009 [==============================] - 0s 73us/step - loss: 7.2800 - acc: 0.5182\n",
      "Epoch 33/50\n",
      "2009/2009 [==============================] - 0s 74us/step - loss: 7.3840 - acc: 0.5112\n",
      "Epoch 34/50\n",
      "2009/2009 [==============================] - 0s 75us/step - loss: 7.4245 - acc: 0.5077\n",
      "Epoch 35/50\n",
      "2009/2009 [==============================] - 0s 74us/step - loss: 7.5123 - acc: 0.5037\n",
      "Epoch 36/50\n",
      "2009/2009 [==============================] - 0s 73us/step - loss: 7.6714 - acc: 0.4948\n",
      "Epoch 37/50\n",
      "2009/2009 [==============================] - 0s 74us/step - loss: 7.6229 - acc: 0.4928\n",
      "Epoch 38/50\n",
      "2009/2009 [==============================] - 0s 75us/step - loss: 7.7551 - acc: 0.4883\n",
      "Epoch 39/50\n",
      "2009/2009 [==============================] - 0s 73us/step - loss: 7.5089 - acc: 0.5022\n",
      "Epoch 40/50\n",
      "2009/2009 [==============================] - 0s 75us/step - loss: 7.4635 - acc: 0.5087\n",
      "Epoch 41/50\n",
      "2009/2009 [==============================] - 0s 74us/step - loss: 7.5103 - acc: 0.5002\n",
      "Epoch 42/50\n",
      "2009/2009 [==============================] - 0s 74us/step - loss: 7.4550 - acc: 0.5072\n",
      "Epoch 43/50\n",
      "2009/2009 [==============================] - 0s 74us/step - loss: 7.4699 - acc: 0.5052\n",
      "Epoch 44/50\n",
      "2009/2009 [==============================] - 0s 74us/step - loss: 7.5768 - acc: 0.4963\n",
      "Epoch 45/50\n",
      "2009/2009 [==============================] - 0s 73us/step - loss: 7.6244 - acc: 0.4973\n",
      "Epoch 46/50\n",
      "2009/2009 [==============================] - 0s 75us/step - loss: 7.1735 - acc: 0.5256\n",
      "Epoch 47/50\n",
      "2009/2009 [==============================] - 0s 74us/step - loss: 7.6168 - acc: 0.4918\n",
      "Epoch 48/50\n",
      "2009/2009 [==============================] - 0s 75us/step - loss: 7.5731 - acc: 0.4978\n",
      "Epoch 49/50\n",
      "2009/2009 [==============================] - 0s 73us/step - loss: 7.4080 - acc: 0.5082\n",
      "Epoch 50/50\n",
      "2009/2009 [==============================] - 0s 73us/step - loss: 7.3303 - acc: 0.5032\n"
     ]
    },
    {
     "data": {
      "text/plain": [
       "<keras.callbacks.History at 0x1c17876860>"
      ]
     },
     "execution_count": 18,
     "metadata": {},
     "output_type": "execute_result"
    }
   ],
   "source": [
    "model.fit(X_train, y_train,\n",
    "          epochs=50,\n",
    "          batch_size=20)"
   ]
  },
  {
   "cell_type": "code",
   "execution_count": 19,
   "metadata": {},
   "outputs": [
    {
     "name": "stdout",
     "output_type": "stream",
     "text": [
      "500/500 [==============================] - 0s 853us/step\n"
     ]
    }
   ],
   "source": [
    "evaluation = model.evaluate(x=X_test, y=y_test, steps=500)"
   ]
  },
  {
   "cell_type": "code",
   "execution_count": 20,
   "metadata": {},
   "outputs": [
    {
     "data": {
      "text/plain": [
       "['loss', 'acc']"
      ]
     },
     "execution_count": 20,
     "metadata": {},
     "output_type": "execute_result"
    }
   ],
   "source": [
    "model.metrics_names"
   ]
  },
  {
   "cell_type": "code",
   "execution_count": 21,
   "metadata": {},
   "outputs": [
    {
     "name": "stdout",
     "output_type": "stream",
     "text": [
      "[6.668727397918701, 0.4939393997192383]\n"
     ]
    }
   ],
   "source": [
    "print(evaluation)"
   ]
  },
  {
   "cell_type": "code",
   "execution_count": null,
   "metadata": {},
   "outputs": [],
   "source": []
  }
 ],
 "metadata": {
  "kernelspec": {
   "display_name": "Python 3",
   "language": "python",
   "name": "python3"
  },
  "language_info": {
   "codemirror_mode": {
    "name": "ipython",
    "version": 3
   },
   "file_extension": ".py",
   "mimetype": "text/x-python",
   "name": "python",
   "nbconvert_exporter": "python",
   "pygments_lexer": "ipython3",
   "version": "3.6.3"
  }
 },
 "nbformat": 4,
 "nbformat_minor": 2
}
