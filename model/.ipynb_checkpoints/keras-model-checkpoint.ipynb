{
 "cells": [
  {
   "cell_type": "code",
   "execution_count": 3,
   "metadata": {},
   "outputs": [
    {
     "name": "stderr",
     "output_type": "stream",
     "text": [
      "/Users/philleif/anaconda3/lib/python3.6/site-packages/h5py/__init__.py:36: FutureWarning: Conversion of the second argument of issubdtype from `float` to `np.floating` is deprecated. In future, it will be treated as `np.float64 == np.dtype(float).type`.\n",
      "  from ._conv import register_converters as _register_converters\n",
      "Using TensorFlow backend.\n"
     ]
    },
    {
     "name": "stdout",
     "output_type": "stream",
     "text": [
      "WARNING:tensorflow:From /Users/philleif/anaconda3/lib/python3.6/site-packages/tensorflow/contrib/learn/python/learn/datasets/base.py:198: retry (from tensorflow.contrib.learn.python.learn.datasets.base) is deprecated and will be removed in a future version.\n",
      "Instructions for updating:\n",
      "Use the retry module or similar alternatives.\n"
     ]
    }
   ],
   "source": [
    "import pandas as pd\n",
    "import tensorflowjs as tfjs\n",
    "import keras\n",
    "import numpy as np\n",
    "from keras.utils.np_utils import to_categorical\n",
    "from keras.layers import Dense, Dropout, Flatten\n",
    "from keras.utils import to_categorical\n",
    "from keras.models import Sequential\n",
    "from keras.wrappers.scikit_learn import KerasClassifier\n",
    "from sklearn.model_selection import train_test_split, GridSearchCV"
   ]
  },
  {
   "cell_type": "code",
   "execution_count": 4,
   "metadata": {},
   "outputs": [
    {
     "data": {
      "text/plain": [
       "<keras.callbacks.TensorBoard at 0x1174980b8>"
      ]
     },
     "execution_count": 4,
     "metadata": {},
     "output_type": "execute_result"
    }
   ],
   "source": [
    "keras.callbacks.TensorBoard(log_dir='./logs', histogram_freq=0, batch_size=32, write_graph=True, write_grads=False, write_images=False, embeddings_freq=0, embeddings_layer_names=None, embeddings_metadata=None)"
   ]
  },
  {
   "cell_type": "code",
   "execution_count": 5,
   "metadata": {},
   "outputs": [],
   "source": [
    "df = pd.read_csv(\"../data/candles.csv\")"
   ]
  },
  {
   "cell_type": "code",
   "execution_count": 6,
   "metadata": {},
   "outputs": [
    {
     "data": {
      "text/html": [
       "<div>\n",
       "<style>\n",
       "    .dataframe thead tr:only-child th {\n",
       "        text-align: right;\n",
       "    }\n",
       "\n",
       "    .dataframe thead th {\n",
       "        text-align: left;\n",
       "    }\n",
       "\n",
       "    .dataframe tbody tr th {\n",
       "        vertical-align: top;\n",
       "    }\n",
       "</style>\n",
       "<table border=\"1\" class=\"dataframe\">\n",
       "  <thead>\n",
       "    <tr style=\"text-align: right;\">\n",
       "      <th></th>\n",
       "      <th>mts</th>\n",
       "      <th>open</th>\n",
       "      <th>close</th>\n",
       "      <th>high</th>\n",
       "      <th>low</th>\n",
       "      <th>volume</th>\n",
       "      <th>pair</th>\n",
       "      <th>timeframe</th>\n",
       "      <th>upDownThreeMethods</th>\n",
       "      <th>upsideGapTwoCrows</th>\n",
       "      <th>...</th>\n",
       "      <th>minus_dm</th>\n",
       "      <th>plus_di</th>\n",
       "      <th>minus_di</th>\n",
       "      <th>cvi</th>\n",
       "      <th>adx</th>\n",
       "      <th>apo</th>\n",
       "      <th>rocr</th>\n",
       "      <th>percentChange</th>\n",
       "      <th>strategy</th>\n",
       "      <th>strategyCode</th>\n",
       "    </tr>\n",
       "  </thead>\n",
       "  <tbody>\n",
       "    <tr>\n",
       "      <th>0</th>\n",
       "      <td>1525186800000</td>\n",
       "      <td>0.80930</td>\n",
       "      <td>0.81353</td>\n",
       "      <td>0.82000</td>\n",
       "      <td>0.80800</td>\n",
       "      <td>1.852463e+06</td>\n",
       "      <td>tXRPUSD</td>\n",
       "      <td>1h</td>\n",
       "      <td>0</td>\n",
       "      <td>0</td>\n",
       "      <td>...</td>\n",
       "      <td>0.268851</td>\n",
       "      <td>0.392812</td>\n",
       "      <td>0.261100</td>\n",
       "      <td>0.142994</td>\n",
       "      <td>0.231190</td>\n",
       "      <td>0.542211</td>\n",
       "      <td>1.024081</td>\n",
       "      <td>0.436370</td>\n",
       "      <td>LONG</td>\n",
       "      <td>1</td>\n",
       "    </tr>\n",
       "    <tr>\n",
       "      <th>1</th>\n",
       "      <td>1525190400000</td>\n",
       "      <td>0.81501</td>\n",
       "      <td>0.82013</td>\n",
       "      <td>0.82363</td>\n",
       "      <td>0.81088</td>\n",
       "      <td>1.164791e+06</td>\n",
       "      <td>tXRPUSD</td>\n",
       "      <td>1h</td>\n",
       "      <td>0</td>\n",
       "      <td>0</td>\n",
       "      <td>...</td>\n",
       "      <td>0.242450</td>\n",
       "      <td>0.407582</td>\n",
       "      <td>0.233734</td>\n",
       "      <td>0.153669</td>\n",
       "      <td>0.195609</td>\n",
       "      <td>0.561869</td>\n",
       "      <td>1.025419</td>\n",
       "      <td>0.804750</td>\n",
       "      <td>LONG</td>\n",
       "      <td>1</td>\n",
       "    </tr>\n",
       "    <tr>\n",
       "      <th>2</th>\n",
       "      <td>1525194000000</td>\n",
       "      <td>0.81908</td>\n",
       "      <td>0.82421</td>\n",
       "      <td>0.82719</td>\n",
       "      <td>0.81712</td>\n",
       "      <td>1.875470e+06</td>\n",
       "      <td>tXRPUSD</td>\n",
       "      <td>1h</td>\n",
       "      <td>0</td>\n",
       "      <td>0</td>\n",
       "      <td>...</td>\n",
       "      <td>0.217935</td>\n",
       "      <td>0.428315</td>\n",
       "      <td>0.212911</td>\n",
       "      <td>0.083404</td>\n",
       "      <td>0.167776</td>\n",
       "      <td>0.585394</td>\n",
       "      <td>1.033751</td>\n",
       "      <td>0.495019</td>\n",
       "      <td>LONG</td>\n",
       "      <td>1</td>\n",
       "    </tr>\n",
       "    <tr>\n",
       "      <th>3</th>\n",
       "      <td>1525197600000</td>\n",
       "      <td>0.82454</td>\n",
       "      <td>0.82680</td>\n",
       "      <td>0.82910</td>\n",
       "      <td>0.81970</td>\n",
       "      <td>1.178272e+06</td>\n",
       "      <td>tXRPUSD</td>\n",
       "      <td>1h</td>\n",
       "      <td>0</td>\n",
       "      <td>0</td>\n",
       "      <td>...</td>\n",
       "      <td>0.195171</td>\n",
       "      <td>0.427347</td>\n",
       "      <td>0.193917</td>\n",
       "      <td>0.052363</td>\n",
       "      <td>0.146119</td>\n",
       "      <td>0.609298</td>\n",
       "      <td>1.027017</td>\n",
       "      <td>0.313256</td>\n",
       "      <td>LONG</td>\n",
       "      <td>1</td>\n",
       "    </tr>\n",
       "    <tr>\n",
       "      <th>4</th>\n",
       "      <td>1525201200000</td>\n",
       "      <td>0.82670</td>\n",
       "      <td>0.82536</td>\n",
       "      <td>0.82886</td>\n",
       "      <td>0.82063</td>\n",
       "      <td>7.016413e+05</td>\n",
       "      <td>tXRPUSD</td>\n",
       "      <td>1h</td>\n",
       "      <td>0</td>\n",
       "      <td>0</td>\n",
       "      <td>...</td>\n",
       "      <td>0.174033</td>\n",
       "      <td>0.402241</td>\n",
       "      <td>0.177555</td>\n",
       "      <td>0.049270</td>\n",
       "      <td>0.126010</td>\n",
       "      <td>0.626648</td>\n",
       "      <td>1.012923</td>\n",
       "      <td>-0.174469</td>\n",
       "      <td>SHORT</td>\n",
       "      <td>0</td>\n",
       "    </tr>\n",
       "  </tbody>\n",
       "</table>\n",
       "<p>5 rows × 108 columns</p>\n",
       "</div>"
      ],
      "text/plain": [
       "             mts     open    close     high      low        volume     pair  \\\n",
       "0  1525186800000  0.80930  0.81353  0.82000  0.80800  1.852463e+06  tXRPUSD   \n",
       "1  1525190400000  0.81501  0.82013  0.82363  0.81088  1.164791e+06  tXRPUSD   \n",
       "2  1525194000000  0.81908  0.82421  0.82719  0.81712  1.875470e+06  tXRPUSD   \n",
       "3  1525197600000  0.82454  0.82680  0.82910  0.81970  1.178272e+06  tXRPUSD   \n",
       "4  1525201200000  0.82670  0.82536  0.82886  0.82063  7.016413e+05  tXRPUSD   \n",
       "\n",
       "  timeframe  upDownThreeMethods  upsideGapTwoCrows      ...       minus_dm  \\\n",
       "0        1h                   0                  0      ...       0.268851   \n",
       "1        1h                   0                  0      ...       0.242450   \n",
       "2        1h                   0                  0      ...       0.217935   \n",
       "3        1h                   0                  0      ...       0.195171   \n",
       "4        1h                   0                  0      ...       0.174033   \n",
       "\n",
       "    plus_di  minus_di       cvi       adx       apo      rocr  percentChange  \\\n",
       "0  0.392812  0.261100  0.142994  0.231190  0.542211  1.024081       0.436370   \n",
       "1  0.407582  0.233734  0.153669  0.195609  0.561869  1.025419       0.804750   \n",
       "2  0.428315  0.212911  0.083404  0.167776  0.585394  1.033751       0.495019   \n",
       "3  0.427347  0.193917  0.052363  0.146119  0.609298  1.027017       0.313256   \n",
       "4  0.402241  0.177555  0.049270  0.126010  0.626648  1.012923      -0.174469   \n",
       "\n",
       "   strategy  strategyCode  \n",
       "0      LONG             1  \n",
       "1      LONG             1  \n",
       "2      LONG             1  \n",
       "3      LONG             1  \n",
       "4     SHORT             0  \n",
       "\n",
       "[5 rows x 108 columns]"
      ]
     },
     "execution_count": 6,
     "metadata": {},
     "output_type": "execute_result"
    }
   ],
   "source": [
    "df.head()"
   ]
  },
  {
   "cell_type": "code",
   "execution_count": 7,
   "metadata": {},
   "outputs": [],
   "source": [
    "def create_model(optimizer=\"adam\", init_mode=\"uniform\", activation=\"sigmoid\"):\n",
    "    model = Sequential()\n",
    "\n",
    "    model.add(Dense(48, kernel_initializer=init_mode, input_shape=(46,), activation=activation))\n",
    "    model.add(Dropout(0.2))\n",
    "    model.add(Dense(24, kernel_initializer=init_mode, activation=activation))\n",
    "    model.add(Dropout(0.2))\n",
    "    model.add(Dense(12, kernel_initializer=init_mode, activation=activation))\n",
    "    model.add(Dropout(0.2))\n",
    "    model.add(Dense(2, kernel_initializer=init_mode, activation=\"sigmoid\"))\n",
    "\n",
    "    model.compile(loss=\"categorical_crossentropy\",\n",
    "                  optimizer=optimizer,\n",
    "                  metrics=[\"accuracy\"])\n",
    "    return model"
   ]
  },
  {
   "cell_type": "code",
   "execution_count": 8,
   "metadata": {},
   "outputs": [],
   "source": [
    "X = df[[\"adx\", \"cci\", \"rocr\", \"hikkake\", \"harami\", \"closingMarubozu\", \n",
    "        \"onNeck\", \"longLineCandle\", \"hikkakeModified\", \"apo\", \"cmo\", \"adx\",\n",
    "        \"cvi\", \"plus_dm\", \"minus_dm\", \"plus_di\", \"minus_di\", \"dpo\", \"kvo\",\n",
    "        \"fosc\", \"fisher\", \"fisher_signal\", \"dx\", \"linregslope\", \"macd\", \"macd_signal\", \n",
    "        \"macd_histogram\", \"mfi\", \"mom\", \"obv\", \"ppo\", \"pvi\", \"rsi\", \"stoch_k\", \"stoch_d\",\n",
    "        \"atr\", \"trix\", \"ultosc\", \"vosc\", \"willr\", \"cmo\", \"cci\", \"adosc\", \"adxr\", \"ao\",\n",
    "        \"aroonosc\"\n",
    "       ]].values\n",
    "\n",
    "y = df[\"strategyCode\"].values\n",
    "\n",
    "X_train, X_test, y_train, y_test = train_test_split(X, y, test_size=0.33)"
   ]
  },
  {
   "cell_type": "code",
   "execution_count": 53,
   "metadata": {},
   "outputs": [],
   "source": [
    "model = KerasClassifier(build_fn=create_model, verbose=0)\n",
    "\n",
    "batch_size = [128]\n",
    "epochs = [500]\n",
    "optimizer = ['Adam']\n",
    "init_mode = ['uniform']\n",
    "activation = ['softsign']\n",
    "\n",
    "param_grid = dict(batch_size=batch_size, epochs=epochs, optimizer=optimizer, init_mode=init_mode, activation=activation)\n",
    "\n",
    "grid = GridSearchCV(estimator=model, param_grid=param_grid, n_jobs=1)\n",
    "grid_result = grid.fit(X_train, y_train)"
   ]
  },
  {
   "cell_type": "code",
   "execution_count": 54,
   "metadata": {},
   "outputs": [
    {
     "name": "stdout",
     "output_type": "stream",
     "text": [
      "Best: 0.829147 using {'activation': 'softsign', 'batch_size': 128, 'epochs': 500, 'init_mode': 'uniform', 'optimizer': 'Adam'}\n",
      "0.829147 (0.002025) with: {'activation': 'softsign', 'batch_size': 128, 'epochs': 500, 'init_mode': 'uniform', 'optimizer': 'Adam'}\n",
      "0.825206 (0.005427) with: {'activation': 'softsign', 'batch_size': 128, 'epochs': 500, 'init_mode': 'lecun_uniform', 'optimizer': 'Adam'}\n",
      "0.825994 (0.004582) with: {'activation': 'softsign', 'batch_size': 128, 'epochs': 500, 'init_mode': 'normal', 'optimizer': 'Adam'}\n",
      "0.515711 (0.007595) with: {'activation': 'softsign', 'batch_size': 128, 'epochs': 500, 'init_mode': 'zero', 'optimizer': 'Adam'}\n",
      "0.825881 (0.011508) with: {'activation': 'softsign', 'batch_size': 128, 'epochs': 500, 'init_mode': 'glorot_normal', 'optimizer': 'Adam'}\n",
      "0.823404 (0.008115) with: {'activation': 'softsign', 'batch_size': 128, 'epochs': 500, 'init_mode': 'glorot_uniform', 'optimizer': 'Adam'}\n",
      "0.823967 (0.005414) with: {'activation': 'softsign', 'batch_size': 128, 'epochs': 500, 'init_mode': 'he_normal', 'optimizer': 'Adam'}\n",
      "0.821489 (0.005315) with: {'activation': 'softsign', 'batch_size': 128, 'epochs': 500, 'init_mode': 'he_uniform', 'optimizer': 'Adam'}\n"
     ]
    }
   ],
   "source": [
    "# summarize results\n",
    "print(\"Best: %f using %s\" % (grid_result.best_score_, grid_result.best_params_))\n",
    "means = grid_result.cv_results_['mean_test_score']\n",
    "stds = grid_result.cv_results_['std_test_score']\n",
    "params = grid_result.cv_results_['params']\n",
    "for mean, stdev, param in zip(means, stds, params):\n",
    "    print(\"%f (%f) with: %r\" % (mean, stdev, param))"
   ]
  },
  {
   "cell_type": "code",
   "execution_count": 9,
   "metadata": {},
   "outputs": [
    {
     "name": "stdout",
     "output_type": "stream",
     "text": [
      "Epoch 1/50\n",
      "35003/35003 [==============================] - 1s 19us/step - loss: 0.5652 - acc: 0.7189\n",
      "Epoch 2/50\n",
      "35003/35003 [==============================] - 0s 12us/step - loss: 0.4765 - acc: 0.7809\n",
      "Epoch 3/50\n",
      "35003/35003 [==============================] - 0s 12us/step - loss: 0.4535 - acc: 0.7910\n",
      "Epoch 4/50\n",
      "35003/35003 [==============================] - 0s 13us/step - loss: 0.4417 - acc: 0.7942\n",
      "Epoch 5/50\n",
      "35003/35003 [==============================] - 0s 13us/step - loss: 0.4328 - acc: 0.7998\n",
      "Epoch 6/50\n",
      "35003/35003 [==============================] - 0s 12us/step - loss: 0.4282 - acc: 0.7994\n",
      "Epoch 7/50\n",
      "35003/35003 [==============================] - 0s 12us/step - loss: 0.4227 - acc: 0.8006\n",
      "Epoch 8/50\n",
      "35003/35003 [==============================] - 0s 13us/step - loss: 0.4187 - acc: 0.8069\n",
      "Epoch 9/50\n",
      "35003/35003 [==============================] - 0s 12us/step - loss: 0.4162 - acc: 0.8064\n",
      "Epoch 10/50\n",
      "35003/35003 [==============================] - 0s 12us/step - loss: 0.4144 - acc: 0.8078\n",
      "Epoch 11/50\n",
      "35003/35003 [==============================] - 0s 12us/step - loss: 0.4088 - acc: 0.8091\n",
      "Epoch 12/50\n",
      "35003/35003 [==============================] - 0s 12us/step - loss: 0.4089 - acc: 0.8122\n",
      "Epoch 13/50\n",
      "35003/35003 [==============================] - 0s 12us/step - loss: 0.4107 - acc: 0.8078\n",
      "Epoch 14/50\n",
      "35003/35003 [==============================] - 0s 13us/step - loss: 0.4084 - acc: 0.8096\n",
      "Epoch 15/50\n",
      "35003/35003 [==============================] - 0s 13us/step - loss: 0.4070 - acc: 0.8133\n",
      "Epoch 16/50\n",
      "35003/35003 [==============================] - 0s 12us/step - loss: 0.4033 - acc: 0.8116\n",
      "Epoch 17/50\n",
      "35003/35003 [==============================] - 0s 12us/step - loss: 0.4009 - acc: 0.8168\n",
      "Epoch 18/50\n",
      "35003/35003 [==============================] - 0s 12us/step - loss: 0.4032 - acc: 0.8146\n",
      "Epoch 19/50\n",
      "35003/35003 [==============================] - 0s 12us/step - loss: 0.4009 - acc: 0.8144\n",
      "Epoch 20/50\n",
      "35003/35003 [==============================] - 0s 12us/step - loss: 0.3999 - acc: 0.8163\n",
      "Epoch 21/50\n",
      "35003/35003 [==============================] - 0s 12us/step - loss: 0.4004 - acc: 0.8133\n",
      "Epoch 22/50\n",
      "35003/35003 [==============================] - 0s 12us/step - loss: 0.4022 - acc: 0.8143\n",
      "Epoch 23/50\n",
      "35003/35003 [==============================] - 0s 12us/step - loss: 0.3973 - acc: 0.8186\n",
      "Epoch 24/50\n",
      "35003/35003 [==============================] - 0s 13us/step - loss: 0.3953 - acc: 0.8178\n",
      "Epoch 25/50\n",
      "35003/35003 [==============================] - 0s 12us/step - loss: 0.3957 - acc: 0.8175\n",
      "Epoch 26/50\n",
      "35003/35003 [==============================] - 0s 13us/step - loss: 0.3989 - acc: 0.8153\n",
      "Epoch 27/50\n",
      "35003/35003 [==============================] - 0s 12us/step - loss: 0.3964 - acc: 0.8147\n",
      "Epoch 28/50\n",
      "35003/35003 [==============================] - 0s 13us/step - loss: 0.3941 - acc: 0.8195\n",
      "Epoch 29/50\n",
      "35003/35003 [==============================] - 0s 12us/step - loss: 0.3974 - acc: 0.8147\n",
      "Epoch 30/50\n",
      "35003/35003 [==============================] - 0s 12us/step - loss: 0.3963 - acc: 0.8154\n",
      "Epoch 31/50\n",
      "35003/35003 [==============================] - 0s 12us/step - loss: 0.3946 - acc: 0.8180\n",
      "Epoch 32/50\n",
      "35003/35003 [==============================] - 0s 12us/step - loss: 0.3938 - acc: 0.8167\n",
      "Epoch 33/50\n",
      "35003/35003 [==============================] - 0s 13us/step - loss: 0.3940 - acc: 0.8176\n",
      "Epoch 34/50\n",
      "35003/35003 [==============================] - 0s 13us/step - loss: 0.3928 - acc: 0.8184\n",
      "Epoch 35/50\n",
      "35003/35003 [==============================] - 0s 13us/step - loss: 0.3949 - acc: 0.8175\n",
      "Epoch 36/50\n",
      "35003/35003 [==============================] - 0s 13us/step - loss: 0.3944 - acc: 0.8178\n",
      "Epoch 37/50\n",
      "35003/35003 [==============================] - 0s 13us/step - loss: 0.3924 - acc: 0.8198\n",
      "Epoch 38/50\n",
      "35003/35003 [==============================] - 0s 14us/step - loss: 0.3942 - acc: 0.8196\n",
      "Epoch 39/50\n",
      "35003/35003 [==============================] - 0s 13us/step - loss: 0.3925 - acc: 0.8184\n",
      "Epoch 40/50\n",
      "35003/35003 [==============================] - 0s 13us/step - loss: 0.3908 - acc: 0.8205\n",
      "Epoch 41/50\n",
      "35003/35003 [==============================] - 0s 13us/step - loss: 0.3890 - acc: 0.8213\n",
      "Epoch 42/50\n",
      "35003/35003 [==============================] - 0s 13us/step - loss: 0.3904 - acc: 0.8206\n",
      "Epoch 43/50\n",
      "35003/35003 [==============================] - 0s 14us/step - loss: 0.3917 - acc: 0.8185\n",
      "Epoch 44/50\n",
      "35003/35003 [==============================] - 0s 13us/step - loss: 0.3879 - acc: 0.8195\n",
      "Epoch 45/50\n",
      "35003/35003 [==============================] - 0s 13us/step - loss: 0.3882 - acc: 0.8187\n",
      "Epoch 46/50\n",
      "35003/35003 [==============================] - 0s 13us/step - loss: 0.3900 - acc: 0.8198\n",
      "Epoch 47/50\n",
      "35003/35003 [==============================] - 0s 13us/step - loss: 0.3909 - acc: 0.8191\n",
      "Epoch 48/50\n",
      "35003/35003 [==============================] - 0s 12us/step - loss: 0.3888 - acc: 0.8204\n",
      "Epoch 49/50\n",
      "35003/35003 [==============================] - 0s 13us/step - loss: 0.3854 - acc: 0.8221\n",
      "Epoch 50/50\n",
      "35003/35003 [==============================] - 0s 13us/step - loss: 0.3874 - acc: 0.8222\n"
     ]
    },
    {
     "data": {
      "text/plain": [
       "<keras.callbacks.History at 0x10fd62240>"
      ]
     },
     "execution_count": 9,
     "metadata": {},
     "output_type": "execute_result"
    }
   ],
   "source": [
    "optimal_model = create_model(optimizer=\"Adam\", init_mode=\"uniform\", activation=\"softsign\")\n",
    "\n",
    "y_labels = to_categorical(y_train, num_classes=2)\n",
    "\n",
    "optimal_model.fit(X_train, y_labels, epochs=50, batch_size=128, verbose=1)"
   ]
  },
  {
   "cell_type": "code",
   "execution_count": 10,
   "metadata": {},
   "outputs": [
    {
     "name": "stdout",
     "output_type": "stream",
     "text": [
      "1000/1000 [==============================] - 5s 5ms/step\n"
     ]
    },
    {
     "data": {
      "text/plain": [
       "['loss', 'acc']"
      ]
     },
     "execution_count": 10,
     "metadata": {},
     "output_type": "execute_result"
    }
   ],
   "source": [
    "y_test_labels = to_categorical(y_test, num_classes=2)\n",
    "evaluation = optimal_model.evaluate(x=X_test, y=y_test_labels, steps=1000)\n",
    "optimal_model.metrics_names"
   ]
  },
  {
   "cell_type": "code",
   "execution_count": 11,
   "metadata": {},
   "outputs": [
    {
     "name": "stdout",
     "output_type": "stream",
     "text": [
      "[0.3772464394569397, 0.8226900696754456]\n"
     ]
    }
   ],
   "source": [
    "print(evaluation)"
   ]
  },
  {
   "cell_type": "code",
   "execution_count": null,
   "metadata": {},
   "outputs": [],
   "source": []
  }
 ],
 "metadata": {
  "kernelspec": {
   "display_name": "Python 3",
   "language": "python",
   "name": "python3"
  },
  "language_info": {
   "codemirror_mode": {
    "name": "ipython",
    "version": 3
   },
   "file_extension": ".py",
   "mimetype": "text/x-python",
   "name": "python",
   "nbconvert_exporter": "python",
   "pygments_lexer": "ipython3",
   "version": "3.6.3"
  }
 },
 "nbformat": 4,
 "nbformat_minor": 2
}
