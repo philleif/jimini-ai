{
 "cells": [
  {
   "cell_type": "code",
   "execution_count": 22,
   "metadata": {},
   "outputs": [],
   "source": [
    "import pandas as pd\n",
    "import tensorflowjs as tfjs\n",
    "from keras.layers import Dense, Dropout, Flatten\n",
    "from keras.models import Sequential\n",
    "from sklearn.model_selection import train_test_split"
   ]
  },
  {
   "cell_type": "code",
   "execution_count": 23,
   "metadata": {},
   "outputs": [],
   "source": [
    "df = pd.read_csv(\"../data/candles.csv\")"
   ]
  },
  {
   "cell_type": "code",
   "execution_count": 24,
   "metadata": {},
   "outputs": [
    {
     "data": {
      "text/html": [
       "<div>\n",
       "<style>\n",
       "    .dataframe thead tr:only-child th {\n",
       "        text-align: right;\n",
       "    }\n",
       "\n",
       "    .dataframe thead th {\n",
       "        text-align: left;\n",
       "    }\n",
       "\n",
       "    .dataframe tbody tr th {\n",
       "        vertical-align: top;\n",
       "    }\n",
       "</style>\n",
       "<table border=\"1\" class=\"dataframe\">\n",
       "  <thead>\n",
       "    <tr style=\"text-align: right;\">\n",
       "      <th></th>\n",
       "      <th>mts</th>\n",
       "      <th>open</th>\n",
       "      <th>close</th>\n",
       "      <th>high</th>\n",
       "      <th>low</th>\n",
       "      <th>volume</th>\n",
       "      <th>pair</th>\n",
       "      <th>timeframe</th>\n",
       "      <th>adx</th>\n",
       "      <th>percentChange</th>\n",
       "      <th>strategy</th>\n",
       "      <th>strategyCode</th>\n",
       "    </tr>\n",
       "  </thead>\n",
       "  <tbody>\n",
       "    <tr>\n",
       "      <th>0</th>\n",
       "      <td>1525938300000</td>\n",
       "      <td>0.79796</td>\n",
       "      <td>0.80054</td>\n",
       "      <td>0.80282</td>\n",
       "      <td>0.79781</td>\n",
       "      <td>1.033720e+06</td>\n",
       "      <td>tXRPUSD</td>\n",
       "      <td>15m</td>\n",
       "      <td>45.007021</td>\n",
       "      <td>0.322282</td>\n",
       "      <td>LONG</td>\n",
       "      <td>1</td>\n",
       "    </tr>\n",
       "    <tr>\n",
       "      <th>1</th>\n",
       "      <td>1525939200000</td>\n",
       "      <td>0.80054</td>\n",
       "      <td>0.79978</td>\n",
       "      <td>0.80259</td>\n",
       "      <td>0.79978</td>\n",
       "      <td>1.025322e+05</td>\n",
       "      <td>tXRPUSD</td>\n",
       "      <td>15m</td>\n",
       "      <td>41.418334</td>\n",
       "      <td>-0.095026</td>\n",
       "      <td>SHORT</td>\n",
       "      <td>0</td>\n",
       "    </tr>\n",
       "    <tr>\n",
       "      <th>2</th>\n",
       "      <td>1525940100000</td>\n",
       "      <td>0.79977</td>\n",
       "      <td>0.80000</td>\n",
       "      <td>0.80000</td>\n",
       "      <td>0.79858</td>\n",
       "      <td>1.287505e+05</td>\n",
       "      <td>tXRPUSD</td>\n",
       "      <td>15m</td>\n",
       "      <td>35.211220</td>\n",
       "      <td>0.027500</td>\n",
       "      <td>LONG</td>\n",
       "      <td>1</td>\n",
       "    </tr>\n",
       "    <tr>\n",
       "      <th>3</th>\n",
       "      <td>1525941000000</td>\n",
       "      <td>0.80000</td>\n",
       "      <td>0.79797</td>\n",
       "      <td>0.80100</td>\n",
       "      <td>0.79782</td>\n",
       "      <td>2.078187e+05</td>\n",
       "      <td>tXRPUSD</td>\n",
       "      <td>15m</td>\n",
       "      <td>32.401693</td>\n",
       "      <td>-0.254396</td>\n",
       "      <td>SHORT</td>\n",
       "      <td>0</td>\n",
       "    </tr>\n",
       "    <tr>\n",
       "      <th>4</th>\n",
       "      <td>1525941900000</td>\n",
       "      <td>0.79793</td>\n",
       "      <td>0.79852</td>\n",
       "      <td>0.79860</td>\n",
       "      <td>0.79638</td>\n",
       "      <td>3.543426e+05</td>\n",
       "      <td>tXRPUSD</td>\n",
       "      <td>15m</td>\n",
       "      <td>26.001937</td>\n",
       "      <td>0.068877</td>\n",
       "      <td>LONG</td>\n",
       "      <td>1</td>\n",
       "    </tr>\n",
       "  </tbody>\n",
       "</table>\n",
       "</div>"
      ],
      "text/plain": [
       "             mts     open    close     high      low        volume     pair  \\\n",
       "0  1525938300000  0.79796  0.80054  0.80282  0.79781  1.033720e+06  tXRPUSD   \n",
       "1  1525939200000  0.80054  0.79978  0.80259  0.79978  1.025322e+05  tXRPUSD   \n",
       "2  1525940100000  0.79977  0.80000  0.80000  0.79858  1.287505e+05  tXRPUSD   \n",
       "3  1525941000000  0.80000  0.79797  0.80100  0.79782  2.078187e+05  tXRPUSD   \n",
       "4  1525941900000  0.79793  0.79852  0.79860  0.79638  3.543426e+05  tXRPUSD   \n",
       "\n",
       "  timeframe        adx  percentChange strategy  strategyCode  \n",
       "0       15m  45.007021       0.322282     LONG             1  \n",
       "1       15m  41.418334      -0.095026    SHORT             0  \n",
       "2       15m  35.211220       0.027500     LONG             1  \n",
       "3       15m  32.401693      -0.254396    SHORT             0  \n",
       "4       15m  26.001937       0.068877     LONG             1  "
      ]
     },
     "execution_count": 24,
     "metadata": {},
     "output_type": "execute_result"
    }
   ],
   "source": [
    "df.head()"
   ]
  },
  {
   "cell_type": "code",
   "execution_count": 25,
   "metadata": {},
   "outputs": [],
   "source": [
    "model = Sequential()\n",
    "\n",
    "model.add(Dense(64, input_shape=(2,), activation=\"relu\"))\n",
    "model.add(Dropout(0.5))\n",
    "model.add(Dense(64, activation=\"relu\"))\n",
    "model.add(Dropout(0.5))\n",
    "model.add(Dense(64, activation=\"relu\"))\n",
    "model.add(Dropout(0.5))\n",
    "model.add(Dense(1, activation=\"sigmoid\"))"
   ]
  },
  {
   "cell_type": "code",
   "execution_count": 26,
   "metadata": {},
   "outputs": [],
   "source": [
    "model.compile(loss=\"binary_crossentropy\",\n",
    "              optimizer=\"Adam\",\n",
    "              metrics=[\"accuracy\"])"
   ]
  },
  {
   "cell_type": "code",
   "execution_count": 32,
   "metadata": {},
   "outputs": [],
   "source": [
    "X = df[[\"volume\", \"adx\"]].values\n",
    "y = df[\"strategyCode\"].values\n",
    "\n",
    "X_train, X_test, y_train, y_test = train_test_split(X, y, test_size=0.33)"
   ]
  },
  {
   "cell_type": "code",
   "execution_count": 33,
   "metadata": {},
   "outputs": [
    {
     "name": "stdout",
     "output_type": "stream",
     "text": [
      "Epoch 1/50\n",
      "329/329 [==============================] - 0s 83us/step - loss: 8.4481 - acc: 0.4711\n",
      "Epoch 2/50\n",
      "329/329 [==============================] - 0s 79us/step - loss: 8.2596 - acc: 0.4833\n",
      "Epoch 3/50\n",
      "329/329 [==============================] - 0s 78us/step - loss: 8.1600 - acc: 0.4894\n",
      "Epoch 4/50\n",
      "329/329 [==============================] - 0s 79us/step - loss: 7.5247 - acc: 0.5289\n",
      "Epoch 5/50\n",
      "329/329 [==============================] - 0s 81us/step - loss: 8.4574 - acc: 0.4681\n",
      "Epoch 6/50\n",
      "329/329 [==============================] - 0s 79us/step - loss: 7.4177 - acc: 0.5350\n",
      "Epoch 7/50\n",
      "329/329 [==============================] - 0s 79us/step - loss: 8.0034 - acc: 0.4985\n",
      "Epoch 8/50\n",
      "329/329 [==============================] - 0s 79us/step - loss: 8.0993 - acc: 0.4924\n",
      "Epoch 9/50\n",
      "329/329 [==============================] - 0s 79us/step - loss: 8.0993 - acc: 0.4924\n",
      "Epoch 10/50\n",
      "329/329 [==============================] - 0s 78us/step - loss: 8.3410 - acc: 0.4772\n",
      "Epoch 11/50\n",
      "329/329 [==============================] - 0s 81us/step - loss: 8.2942 - acc: 0.4802\n",
      "Epoch 12/50\n",
      "329/329 [==============================] - 0s 81us/step - loss: 7.9502 - acc: 0.5015\n",
      "Epoch 13/50\n",
      "329/329 [==============================] - 0s 76us/step - loss: 7.4672 - acc: 0.5319\n",
      "Epoch 14/50\n",
      "329/329 [==============================] - 0s 82us/step - loss: 8.0492 - acc: 0.4954\n",
      "Epoch 15/50\n",
      "329/329 [==============================] - 0s 79us/step - loss: 8.0029 - acc: 0.4985\n",
      "Epoch 16/50\n",
      "329/329 [==============================] - 0s 79us/step - loss: 8.4907 - acc: 0.4681\n",
      "Epoch 17/50\n",
      "329/329 [==============================] - 0s 84us/step - loss: 7.9544 - acc: 0.5015\n",
      "Epoch 18/50\n",
      "329/329 [==============================] - 0s 80us/step - loss: 8.2446 - acc: 0.4833\n",
      "Epoch 19/50\n",
      "329/329 [==============================] - 0s 78us/step - loss: 7.9028 - acc: 0.5046\n",
      "Epoch 20/50\n",
      "329/329 [==============================] - 0s 82us/step - loss: 7.9518 - acc: 0.5015\n",
      "Epoch 21/50\n",
      "329/329 [==============================] - 0s 83us/step - loss: 7.9049 - acc: 0.5046\n",
      "Epoch 22/50\n",
      "329/329 [==============================] - 0s 81us/step - loss: 8.0503 - acc: 0.4954\n",
      "Epoch 23/50\n",
      "329/329 [==============================] - 0s 83us/step - loss: 8.0008 - acc: 0.4985\n",
      "Epoch 24/50\n",
      "329/329 [==============================] - 0s 84us/step - loss: 7.8538 - acc: 0.5076\n",
      "Epoch 25/50\n",
      "329/329 [==============================] - 0s 81us/step - loss: 7.8064 - acc: 0.5106\n",
      "Epoch 26/50\n",
      "329/329 [==============================] - 0s 84us/step - loss: 7.7558 - acc: 0.5137\n",
      "Epoch 27/50\n",
      "329/329 [==============================] - 0s 83us/step - loss: 8.0508 - acc: 0.4954\n",
      "Epoch 28/50\n",
      "329/329 [==============================] - 0s 85us/step - loss: 7.4651 - acc: 0.5319\n",
      "Epoch 29/50\n",
      "329/329 [==============================] - 0s 82us/step - loss: 7.9054 - acc: 0.5046\n",
      "Epoch 30/50\n",
      "329/329 [==============================] - 0s 78us/step - loss: 8.2947 - acc: 0.4802\n",
      "Epoch 31/50\n",
      "329/329 [==============================] - 0s 86us/step - loss: 7.7579 - acc: 0.5137\n",
      "Epoch 32/50\n",
      "329/329 [==============================] - 0s 81us/step - loss: 7.9539 - acc: 0.5015\n",
      "Epoch 33/50\n",
      "329/329 [==============================] - 0s 81us/step - loss: 7.9060 - acc: 0.5046\n",
      "Epoch 34/50\n",
      "329/329 [==============================] - 0s 82us/step - loss: 7.9528 - acc: 0.5015\n",
      "Epoch 35/50\n",
      "329/329 [==============================] - 0s 86us/step - loss: 8.1493 - acc: 0.4894\n",
      "Epoch 36/50\n",
      "329/329 [==============================] - 0s 80us/step - loss: 7.8559 - acc: 0.5076\n",
      "Epoch 37/50\n",
      "329/329 [==============================] - 0s 80us/step - loss: 8.1967 - acc: 0.4863\n",
      "Epoch 38/50\n",
      "329/329 [==============================] - 0s 86us/step - loss: 7.7084 - acc: 0.5167\n",
      "Epoch 39/50\n",
      "329/329 [==============================] - 0s 82us/step - loss: 8.0508 - acc: 0.4954\n",
      "Epoch 40/50\n",
      "329/329 [==============================] - 0s 93us/step - loss: 8.4411 - acc: 0.4711\n",
      "Epoch 41/50\n",
      "329/329 [==============================] - 0s 88us/step - loss: 8.2479 - acc: 0.4833\n",
      "Epoch 42/50\n",
      "329/329 [==============================] - 0s 85us/step - loss: 7.8538 - acc: 0.5076\n",
      "Epoch 43/50\n",
      "329/329 [==============================] - 0s 90us/step - loss: 8.0013 - acc: 0.4985\n",
      "Epoch 44/50\n",
      "329/329 [==============================] - 0s 80us/step - loss: 8.0503 - acc: 0.4954\n",
      "Epoch 45/50\n",
      "329/329 [==============================] - 0s 77us/step - loss: 8.5386 - acc: 0.4650\n",
      "Epoch 46/50\n",
      "329/329 [==============================] - 0s 88us/step - loss: 7.9049 - acc: 0.5046\n",
      "Epoch 47/50\n",
      "329/329 [==============================] - 0s 88us/step - loss: 7.8064 - acc: 0.5106\n",
      "Epoch 48/50\n",
      "329/329 [==============================] - 0s 91us/step - loss: 7.8549 - acc: 0.5076\n",
      "Epoch 49/50\n",
      "329/329 [==============================] - 0s 84us/step - loss: 7.8565 - acc: 0.5076\n",
      "Epoch 50/50\n",
      "329/329 [==============================] - 0s 85us/step - loss: 7.8559 - acc: 0.5076\n"
     ]
    },
    {
     "data": {
      "text/plain": [
       "<keras.callbacks.History at 0x1c18947a58>"
      ]
     },
     "execution_count": 33,
     "metadata": {},
     "output_type": "execute_result"
    }
   ],
   "source": [
    "model.fit(X_train, y_train,\n",
    "          epochs=50,\n",
    "          batch_size=20)"
   ]
  },
  {
   "cell_type": "code",
   "execution_count": 34,
   "metadata": {},
   "outputs": [
    {
     "name": "stdout",
     "output_type": "stream",
     "text": [
      "500/500 [==============================] - 0s 514us/step\n"
     ]
    }
   ],
   "source": [
    "evaluation = model.evaluate(x=X_test, y=y_test, steps=500)"
   ]
  },
  {
   "cell_type": "code",
   "execution_count": 35,
   "metadata": {},
   "outputs": [
    {
     "data": {
      "text/plain": [
       "['loss', 'acc']"
      ]
     },
     "execution_count": 35,
     "metadata": {},
     "output_type": "execute_result"
    }
   ],
   "source": [
    "model.metrics_names"
   ]
  },
  {
   "cell_type": "code",
   "execution_count": 36,
   "metadata": {},
   "outputs": [
    {
     "name": "stdout",
     "output_type": "stream",
     "text": [
      "[8.509125709533691, 0.46625766158103943]\n"
     ]
    }
   ],
   "source": [
    "print(evaluation)"
   ]
  },
  {
   "cell_type": "code",
   "execution_count": null,
   "metadata": {},
   "outputs": [],
   "source": []
  }
 ],
 "metadata": {
  "kernelspec": {
   "display_name": "Python 3",
   "language": "python",
   "name": "python3"
  },
  "language_info": {
   "codemirror_mode": {
    "name": "ipython",
    "version": 3
   },
   "file_extension": ".py",
   "mimetype": "text/x-python",
   "name": "python",
   "nbconvert_exporter": "python",
   "pygments_lexer": "ipython3",
   "version": "3.6.3"
  }
 },
 "nbformat": 4,
 "nbformat_minor": 2
}
